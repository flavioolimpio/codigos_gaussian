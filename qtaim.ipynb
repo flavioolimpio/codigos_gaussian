import re
import pandas as pd

ns = [1, 20, 101] # substitua pelos valores desejados
nomein = "CPprop.txt"

data = []
for n in ns:
    if n < 10:
        spaces = "     "
    elif n < 100:
        spaces = "    "
    else:
        spaces = "   "

    with open(nomein, 'r') as f:
        lines = f.readlines()

    pattern = f"CP{spaces}{n},"
    result = []
    for i, line in enumerate(lines):
        if re.search(pattern, line):
            for j in range(i, min(i+12, len(lines))):
                if j in [i+2, i+6, i+9, i+10, i+11]:
                    result.append(lines[j])
            break

    row = {}
    for line in result:
        key, value = line.split(':')
        key = key.strip()
        value = float(value)
        row[key] = value
    data.append(row)

df = pd.DataFrame(data)

