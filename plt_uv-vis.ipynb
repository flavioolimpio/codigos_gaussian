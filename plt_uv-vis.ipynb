dataset_paths = [path for path in os.listdir() if 'txt' in path]
colors = ['grey','darkblue', 'purple', 'dodgerblue', 'darkgoldenrod', 'k', 'r', 'g', 'gold', 'orange']
j = 0
labels = ['Picloram','R1','R2','R3','R4', 'R5','R6', 'R7', 'R8', 'R9']
for i in dataset_paths:
    dados = np.loadtxt(i)
    #labels= i.replace('.txt','')
    #labels = labels.replace('_',' ')
    x= dados[:,0]
    normal = np.linalg.norm(dados[:,1])
    y = (dados[:,1] / normal) * 100
    y = (y - np.min(y)) / (np.max(y) - np.min(y))
    a = colors[j]
    plt.plot(x,y, label=labels[j], color = a)
    j = j + 1
plt.ylim(ymin=0)
plt.xlim(xmin=150)
plt.xlim(xmax=550)
plt.legend(loc='center left', bbox_to_anchor=(1, 0.5))
plt.xlabel('Wavelenght (nm)')
plt.ylabel('Molar Absorption Coefficient (L/ cm mol)')
plt.show()
#plt.savefig('uv-vis.png', format='png',dpi=1500)
